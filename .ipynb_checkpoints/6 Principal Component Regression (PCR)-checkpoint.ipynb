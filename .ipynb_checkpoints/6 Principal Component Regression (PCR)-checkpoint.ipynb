{
 "cells": [
  {
   "cell_type": "markdown",
   "id": "4c9af9bb",
   "metadata": {},
   "source": [
    "## Principal Component Regression (PCR):\n",
    "\n",
    "PCR is a technique that combines principal component analysis (PCA) and linear regression. It involves transforming the independent variables into principal components and then performing linear regression on these components."
   ]
  },
  {
   "cell_type": "code",
   "execution_count": 1,
   "id": "6ffea8e6",
   "metadata": {},
   "outputs": [],
   "source": [
    "# Import necessary libraries\n",
    "import numpy as np\n",
    "import pandas as pd\n",
    "from sklearn.model_selection import train_test_split\n",
    "from sklearn.decomposition import PCA\n",
    "from sklearn.linear_model import LinearRegression\n",
    "from sklearn.metrics import mean_squared_error"
   ]
  },
  {
   "cell_type": "code",
   "execution_count": 2,
   "id": "370a254d",
   "metadata": {},
   "outputs": [],
   "source": [
    "# Generate some example data\n",
    "np.random.seed(42)\n",
    "X = 2 * np.random.rand(100, 5)  # 5 features\n",
    "y = 4 + 3 * X[:, 0] + 1.5 * X[:, 1] + 2 * X[:, 2] + 1.2 * X[:, 3] + 0.8 * X[:, 4] + 1.5 * np.random.randn(100)\n",
    "\n",
    "# Split the data into training and testing sets\n",
    "X_train, X_test, y_train, y_test = train_test_split(X, y, test_size=0.2, random_state=42)"
   ]
  },
  {
   "cell_type": "code",
   "execution_count": 3,
   "id": "ad75a262",
   "metadata": {},
   "outputs": [
    {
     "name": "stdout",
     "output_type": "stream",
     "text": [
      "MSE: 4.699129074609967\n",
      "Explained Variance Ratio:\n",
      "[0.28363871 0.23175484 0.19111374 0.15515175 0.13834096]\n",
      "Cumulative Explained Variance:\n",
      "[0.28363871 0.51539354 0.70650728 0.86165904 1.        ]\n"
     ]
    }
   ],
   "source": [
    "# Perform PCA on the training data\n",
    "pca = PCA()\n",
    "X_train_pca = pca.fit_transform(X_train)\n",
    "\n",
    "# Choose the number of principal components to retain\n",
    "n_components = 3\n",
    "X_train_pca_selected = X_train_pca[:, :n_components]\n",
    "\n",
    "# Fit linear regression on the selected principal components\n",
    "regressor = LinearRegression()\n",
    "regressor.fit(X_train_pca_selected, y_train)\n",
    "\n",
    "# Transform the test data using the same PCA and select the same number of components\n",
    "X_test_pca = pca.transform(X_test)[:, :n_components]\n",
    "\n",
    "# Make predictions on the test set\n",
    "y_pred = regressor.predict(X_test_pca)\n",
    "\n",
    "# Calculate and print the mean squared error\n",
    "mse = mean_squared_error(y_test, y_pred)\n",
    "print(f\"MSE: {mse}\")\n",
    "\n",
    "# Note: For a more realistic example, you may want to use real-world data.\n",
    "\n",
    "# Print the explained variance ratio for each principal component\n",
    "print(\"Explained Variance Ratio:\")\n",
    "print(pca.explained_variance_ratio_)\n",
    "\n",
    "# Print the cumulative explained variance\n",
    "print(\"Cumulative Explained Variance:\")\n",
    "print(np.cumsum(pca.explained_variance_ratio_))\n"
   ]
  },
  {
   "cell_type": "code",
   "execution_count": null,
   "id": "cc837f8f",
   "metadata": {},
   "outputs": [],
   "source": []
  }
 ],
 "metadata": {
  "kernelspec": {
   "display_name": "Python 3 (ipykernel)",
   "language": "python",
   "name": "python3"
  },
  "language_info": {
   "codemirror_mode": {
    "name": "ipython",
    "version": 3
   },
   "file_extension": ".py",
   "mimetype": "text/x-python",
   "name": "python",
   "nbconvert_exporter": "python",
   "pygments_lexer": "ipython3",
   "version": "3.11.0"
  }
 },
 "nbformat": 4,
 "nbformat_minor": 5
}
